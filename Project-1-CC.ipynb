{
 "cells": [
  {
   "cell_type": "markdown",
   "metadata": {},
   "source": [
    "<img src=\"http://imgur.com/1ZcRyrc.png\" style=\"float: left; margin: 20px; height: 55px\">\n",
    "\n",
    "# Project 1: Python Coding Exercises\n",
    "\n",
    "_Authors: Joseph Nelson (DC) _\n",
    "\n",
    "---"
   ]
  },
  {
   "cell_type": "markdown",
   "metadata": {},
   "source": [
    "The following code challenges are drawn from common exercises used in technical interviews.\n",
    "\n",
    "Note that there may be several ways to approach each challenge!"
   ]
  },
  {
   "cell_type": "markdown",
   "metadata": {},
   "source": [
    "### Challenge 1.1: Largest Palindrome\n",
    "A palindromic number reads the same both ways. For example, 1234321 is a palindrome. The largest palindrome made from the product of two two-digit numbers is 9009 = 91 × 99. Find the largest palindrome made from the product of two three-digit numbers."
   ]
  },
  {
   "cell_type": "code",
   "execution_count": 1,
   "metadata": {
    "scrolled": true
   },
   "outputs": [
    {
     "name": "stdout",
     "output_type": "stream",
     "text": [
      "The largest palindrome is 906609\n"
     ]
    }
   ],
   "source": [
    "# function to test T-F for palindrome\n",
    "def palindrome(test):\n",
    "    sample = str(test)\n",
    "    print sample == sample[::-1]\n",
    "\n",
    "# function to find largest palindrome\n",
    "def palindrome_gen(highest, lowest):\n",
    "    max_palindrome = 0\n",
    "    for i in range(highest, lowest, -1):\n",
    "        for j in range (i, lowest, -1):\n",
    "            product = (i * j)  \n",
    "            if product > max_palindrome:\n",
    "                sample = str(product)\n",
    "                if sample == sample[::-1]:\n",
    "                    max_palindrome = i * j \n",
    "    print('The largest palindrome is ' + str(max_palindrome))\n",
    "\n",
    "palindrome_gen(999,100)"
   ]
  },
  {
   "cell_type": "markdown",
   "metadata": {},
   "source": [
    "\n",
    "### Challenge 1.2: Summation of Primes\n",
    "The sum of the primes below 10 is 2 + 3 + 5 + 7 = 17. Find the sum of all the primes below 2,000."
   ]
  },
  {
   "cell_type": "code",
   "execution_count": 2,
   "metadata": {
    "scrolled": true
   },
   "outputs": [
    {
     "name": "stdout",
     "output_type": "stream",
     "text": [
      "The sum of all primes below 2000 is 277050\n"
     ]
    }
   ],
   "source": [
    "max_number = 2000\n",
    "list_of_primes = [] \n",
    "for i in range(2, max_number):\n",
    "    for j in range(2,i):\n",
    "        if (i%j) == 0:\n",
    "            break\n",
    "    else:\n",
    "        list_of_primes.append(i)\n",
    "sum_of_primes = sum(k for k in list_of_primes)\n",
    "print(\"The sum of all primes below \" + str(max_number) + \" is \" + str(sum_of_primes))"
   ]
  },
  {
   "cell_type": "markdown",
   "metadata": {},
   "source": [
    "### Challenge 1.3: Multiples of 3 and 5\n",
    "If we list all of the natural numbers below 10 that are multiples of 3 or 5, we get 3, 5, 6, and 9. The sum of these multiples is 23. Find the sum of all the multiples of 3 and 5 below 1,000."
   ]
  },
  {
   "cell_type": "code",
   "execution_count": 3,
   "metadata": {
    "scrolled": true
   },
   "outputs": [
    {
     "name": "stdout",
     "output_type": "stream",
     "text": [
      "The sum of multiples of 3 or 5 below 1,000 is 233168\n"
     ]
    }
   ],
   "source": [
    "list_of_multiples = []\n",
    "for i in range(1,1000):\n",
    "    if (i%3 == 0) or (i%5 == 0):\n",
    "        list_of_multiples.append(i)\n",
    "sum_of_multiples = sum(j for j in list_of_multiples)\n",
    "print(\"The sum of multiples of 3 or 5 below 1,000 is \" + str(sum_of_multiples))"
   ]
  },
  {
   "cell_type": "markdown",
   "metadata": {},
   "source": [
    "### Challenge 2: FizzBuzz\n",
    "Write a program that prints all of the numbers from 1 to 100. For multiples of 3, instead of the number, print \"Fizz;\" for multiples of 5, print \"Buzz.\" For numbers that are multiples of both 3 and 5, print \"FizzBuzz.\" Bonus: If that's too easy, create three unique solutions. Sometimes you'll encounter unexpected constraints, so make sure you're able to think creatively!"
   ]
  },
  {
   "cell_type": "code",
   "execution_count": 4,
   "metadata": {
    "scrolled": true
   },
   "outputs": [
    {
     "name": "stdout",
     "output_type": "stream",
     "text": [
      "1\n",
      "2\n",
      "Fizz\n",
      "4\n",
      "Buzz\n",
      "Fizz\n",
      "7\n",
      "8\n",
      "Fizz\n",
      "Buzz\n",
      "11\n",
      "Fizz\n",
      "13\n",
      "14\n",
      "FizzBuzz\n",
      "16\n",
      "17\n",
      "Fizz\n",
      "19\n",
      "Buzz\n",
      "Fizz\n",
      "22\n",
      "23\n",
      "Fizz\n",
      "Buzz\n",
      "26\n",
      "Fizz\n",
      "28\n",
      "29\n",
      "FizzBuzz\n",
      "31\n",
      "32\n",
      "Fizz\n",
      "34\n",
      "Buzz\n",
      "Fizz\n",
      "37\n",
      "38\n",
      "Fizz\n",
      "Buzz\n",
      "41\n",
      "Fizz\n",
      "43\n",
      "44\n",
      "FizzBuzz\n",
      "46\n",
      "47\n",
      "Fizz\n",
      "49\n",
      "Buzz\n",
      "Fizz\n",
      "52\n",
      "53\n",
      "Fizz\n",
      "Buzz\n",
      "56\n",
      "Fizz\n",
      "58\n",
      "59\n",
      "FizzBuzz\n",
      "61\n",
      "62\n",
      "Fizz\n",
      "64\n",
      "Buzz\n",
      "Fizz\n",
      "67\n",
      "68\n",
      "Fizz\n",
      "Buzz\n",
      "71\n",
      "Fizz\n",
      "73\n",
      "74\n",
      "FizzBuzz\n",
      "76\n",
      "77\n",
      "Fizz\n",
      "79\n",
      "Buzz\n",
      "Fizz\n",
      "82\n",
      "83\n",
      "Fizz\n",
      "Buzz\n",
      "86\n",
      "Fizz\n",
      "88\n",
      "89\n",
      "FizzBuzz\n",
      "91\n",
      "92\n",
      "Fizz\n",
      "94\n",
      "Buzz\n",
      "Fizz\n",
      "97\n",
      "98\n",
      "Fizz\n"
     ]
    }
   ],
   "source": [
    "# function to check multiples\n",
    "def BuzzFizz(min_no, max_no):\n",
    "    for i in range(min_no,max_no):\n",
    "        if (i%3 == 0) and (i%5 == 0):\n",
    "            print(\"FizzBuzz\")\n",
    "        elif (i%3 == 0):\n",
    "            print(\"Fizz\")\n",
    "        elif (i%5 == 0):\n",
    "            print(\"Buzz\")\n",
    "        else:\n",
    "            print i      \n",
    "            \n",
    "BuzzFizz(1,100)"
   ]
  },
  {
   "cell_type": "markdown",
   "metadata": {},
   "source": [
    "### Challenge 3: String Compressor\n",
    "Implement a method to perform basic string compression using the counts of repeated characters. (This is called run-length encoding.) For example, the string \"aabcccccaaa\" would become a2b1c5a3. If the “compressed” string would not become smaller than the original string, your method should return the original string. You can assume the string has only uppercase and lowercase letters (a–z). Specify whether your solution is case sensitive or case insensitive and what you would need to change to make it the other."
   ]
  },
  {
   "cell_type": "code",
   "execution_count": 5,
   "metadata": {
    "scrolled": true
   },
   "outputs": [
    {
     "name": "stdout",
     "output_type": "stream",
     "text": [
      "a2b3c4\n",
      "a1A1b1B2c2C2\n"
     ]
    }
   ],
   "source": [
    "# to make it case insensitive, use upper() or lower() to format string\n",
    "\n",
    "# function for case insenstive string compressor\n",
    "def ci_compressor(string):\n",
    "    comp_str = \"\"\n",
    "    word = string.lower()\n",
    "    comp_str += word[0]\n",
    "    count = 1\n",
    "    for i in range(len(word)-1):\n",
    "            if word[i] == word[i+1]:\n",
    "                count+=1\n",
    "            elif count > 1:\n",
    "                comp_str += str(count)\n",
    "                comp_str +=word[i+1]\n",
    "                count = 1\n",
    "            else:\n",
    "                comp_str += str(count)\n",
    "                comp_str +=word[i+1]\n",
    "\n",
    "    if(count > 1):\n",
    "        comp_str += str(count)\n",
    "    if comp_str == word:\n",
    "        print word\n",
    "    else:\n",
    "        print comp_str\n",
    "\n",
    "# function for case sensitive string compressor\n",
    "def cs_compressor(string):\n",
    "    comp_str = \"\"\n",
    "    comp_str += string[0]\n",
    "    count = 1\n",
    "    for i in range(len(string)-1):\n",
    "            if string[i] == string[i+1]:\n",
    "                count+=1\n",
    "            elif count > 1:\n",
    "                comp_str += str(count)\n",
    "                comp_str +=string[i+1]\n",
    "                count = 1\n",
    "            else:\n",
    "                comp_str += str(count)\n",
    "                comp_str +=string[i+1]\n",
    "\n",
    "    if(count > 1):\n",
    "        comp_str += str(count)\n",
    "    if comp_str == string:\n",
    "        print string\n",
    "    else:\n",
    "        print comp_str\n",
    "        \n",
    "ci_compressor('aAbBBccCC')\n",
    "cs_compressor('aAbBBccCC')"
   ]
  },
  {
   "cell_type": "code",
   "execution_count": null,
   "metadata": {
    "collapsed": true
   },
   "outputs": [],
   "source": []
  }
 ],
 "metadata": {
  "anaconda-cloud": {},
  "kernelspec": {
   "display_name": "Python 2",
   "language": "python",
   "name": "python2"
  },
  "language_info": {
   "codemirror_mode": {
    "name": "ipython",
    "version": 2
   },
   "file_extension": ".py",
   "mimetype": "text/x-python",
   "name": "python",
   "nbconvert_exporter": "python",
   "pygments_lexer": "ipython2",
   "version": "2.7.14"
  }
 },
 "nbformat": 4,
 "nbformat_minor": 2
}
